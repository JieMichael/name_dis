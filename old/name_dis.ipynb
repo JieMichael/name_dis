{
 "cells": [
  {
   "cell_type": "code",
   "execution_count": null,
   "metadata": {
    "collapsed": false
   },
   "outputs": [],
   "source": [
    "import MySQLdb\n",
    "import json\n",
    "conn = MySQLdb.connect(host='202.120.36.29', port=3306, user='groupleader', passwd='onlyleaders', db='mag-new-160205',\n",
    "                       charset=\"utf8\")\n",
    "cursor = conn.cursor()"
   ]
  },
  {
   "cell_type": "code",
   "execution_count": 14,
   "metadata": {
    "collapsed": false
   },
   "outputs": [],
   "source": [
    "author_names_to_process = list()\n",
    "for line in open('./AuthorNameIn985.txt'):\n",
    "    author_names_to_process.append(line.replace('\\n', ''))"
   ]
  },
  {
   "cell_type": "code",
   "execution_count": null,
   "metadata": {
    "collapsed": false
   },
   "outputs": [],
   "source": [
    "with open('paper_affliliations.txt','w') as f:\n",
    "    for author_name in author_names_to_process:\n",
    "        quest_paper_by_author_name = 'SELECT PaperID,AffiliationID,A.AuthorID FROM PaperAuthorAffiliations AS P INNER JOIN ' \\\n",
    "                                     '(SELECT AuthorID FROM Authors WHERE AuthorName =\"%s\") AS A ' \\\n",
    "                                     'ON P.AuthorID = A.AuthorID'\n",
    "        cursor.execute(quest_paper_by_author_name % author_name)\n",
    "        paper_affiliations = cursor.fetchall() \n",
    "        if 200 < len(paper_affiliations) < 300:\n",
    "            f.write(author_name+':')\n",
    "            #print 'yes\n",
    "            for item in paper_affiliations:\n",
    "                paper_id = item[0]\n",
    "                quest_author_by_paper = 'SELECT AuthorName FROM Authors INNER JOIN ' \\\n",
    "                            '(SELECT AuthorID FROM PaperAuthorAffiliations WHERE PaperID = \"%s\") AS TB ' \\\n",
    "                            'ON Authors.AuthorID = TB.AuthorID'\n",
    "                cursor.execute(quest_author_by_paper % paper_id)\n",
    "                coauthors = cursor.fetchall()\n",
    "                if len(coauthors) < 20:\n",
    "                    quest_info_by_paper = 'SELECT NormalizedPaperTitle, ConferenceSeriesIDMappedToVenueName, ' \\\n",
    "                          'JournalIDMappedToVenueName, PaperPublishYear FROM Papers WHERE PaperID = \"%s\"'\n",
    "                    cursor.execute(quest_info_by_paper % paper_id)\n",
    "                    rs = cursor.fetchall()\n",
    "                    f.write(str(item) + '\\s' +str(coauthors) + '\\s'+ str(rs) +'\\t')\n",
    "            f.write('\\n')  "
   ]
  },
  {
   "cell_type": "code",
   "execution_count": null,
   "metadata": {
    "collapsed": true
   },
   "outputs": [],
   "source": [
    "with open('name_dis.json','w') as f:\n",
    "    for author_name in author_names_to_process:\n",
    "        if len(author_name.split()) >= 2:\n",
    "            quest_paper_by_author_name = 'SELECT PaperID,AffiliationID,A.AuthorID FROM PaperAuthorAffiliations AS P INNER JOIN ' \\\n",
    "                                     '(SELECT AuthorID FROM Authors WHERE AuthorName =\"%s\") AS A ' \\\n",
    "                                     'ON P.AuthorID = A.AuthorID'\n",
    "            cursor.execute(quest_paper_by_author_name % author_name)\n",
    "            paper_affiliations = cursor.fetchall()\n",
    "            if 200 < len(paper_affiliations) < 300:\n",
    "                a = []\n",
    "                #print 'yes\n",
    "                for paper_affiliation in paper_affiliations:\n",
    "                    paper_id = paper_affiliation[0]\n",
    "                    quest_author_by_paper = 'SELECT AuthorName FROM Authors INNER JOIN ' \\\n",
    "                                '(SELECT AuthorID FROM PaperAuthorAffiliations WHERE PaperID = \"%s\") AS TB ' \\\n",
    "                                'ON Authors.AuthorID = TB.AuthorID'\n",
    "                    cursor.execute(quest_author_by_paper % paper_id)\n",
    "                    coauthors = cursor.fetchall()\n",
    "                    if len(coauthors) < 20:\n",
    "                        quest_info_by_paper = 'SELECT NormalizedPaperTitle, ConferenceSeriesIDMappedToVenueName, ' \\\n",
    "                              'JournalIDMappedToVenueName, PaperPublishYear FROM Papers WHERE PaperID = \"%s\"'\n",
    "                        cursor.execute(quest_info_by_paper % paper_id)\n",
    "                        rs = cursor.fetchall()\n",
    "                        a.append((paper_affiliation,{'coauthor':coauthors,'title_venue_year':rs})\n",
    "                dict = {'author_name':author_name,'paper_affiliations':a}\n",
    "                json.dump(dict,f)\n",
    "                f.write('\\n')"
   ]
  }
 ],
 "metadata": {
  "kernelspec": {
   "display_name": "Python 2",
   "language": "python",
   "name": "python2"
  },
  "language_info": {
   "codemirror_mode": {
    "name": "ipython",
    "version": 2
   },
   "file_extension": ".py",
   "mimetype": "text/x-python",
   "name": "python",
   "nbconvert_exporter": "python",
   "pygments_lexer": "ipython2",
   "version": "2.7.13"
  }
 },
 "nbformat": 4,
 "nbformat_minor": 0
}
