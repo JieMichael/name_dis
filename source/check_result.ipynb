{
 "cells": [
  {
   "cell_type": "code",
   "execution_count": 1,
   "metadata": {
    "collapsed": true
   },
   "outputs": [],
   "source": [
    "import os\n",
    "import _pickle as cpickle"
   ]
  },
  {
   "cell_type": "code",
   "execution_count": 2,
   "metadata": {},
   "outputs": [
    {
     "name": "stdout",
     "output_type": "stream",
     "text": [
      "..\\data\\aimin liu\\result_cluster_aimin liu\n",
      "..\\data\\aiping wang\\result_cluster_aiping wang\n",
      "..\\data\\aman ullah\\result_cluster_aman ullah\n",
      "..\\data\\an wang\\result_cluster_an wang\n",
      "..\\data\\b yang\\result_cluster_b yang\n",
      "..\\data\\bei wu\\result_cluster_bei wu\n"
     ]
    }
   ],
   "source": [
    "dirct = '..\\data'\n",
    "for root,dirs,files in os.walk(dirct):\n",
    "    for file in files:\n",
    "        file = str(file)\n",
    "        if(file.find('result')!=-1):\n",
    "            print(os.path.join(root,file))\n",
    "            clusters = cpickle.load(open(os.path.join(root,file),'rb'))\n",
    "            break"
   ]
  },
  {
   "cell_type": "code",
   "execution_count": 3,
   "metadata": {},
   "outputs": [],
   "source": [
    "clusters = cpickle.load(open('../data/aimin liu/result_cluster_aimin liu','rb'))"
   ]
  },
  {
   "cell_type": "code",
   "execution_count": 11,
   "metadata": {},
   "outputs": [
    {
     "name": "stdout",
     "output_type": "stream",
     "text": [
      "75\n",
      "24\n",
      "25\n",
      "32\n",
      "8\n",
      "9\n",
      "10\n",
      "5\n",
      "6\n",
      "5\n",
      "7\n",
      "3\n",
      "3\n",
      "9\n",
      "4\n",
      "3\n",
      "2\n",
      "2\n",
      "2\n",
      "2\n",
      "2\n",
      "1\n",
      "1\n",
      "1\n",
      "1\n",
      "1\n",
      "1\n",
      "1\n",
      "1\n",
      "2\n",
      "1\n",
      "1\n",
      "1\n",
      "1\n",
      "1\n",
      "2\n",
      "1\n",
      "3\n",
      "1\n",
      "6\n",
      "1\n",
      "2\n",
      "1\n",
      "1\n",
      "1\n",
      "1\n",
      "1\n",
      "1\n",
      "1\n",
      "1\n"
     ]
    }
   ],
   "source": [
    "for i in clusters:\n",
    "    cluster = clusters[i]\n",
    "    print (len(cluster.papers))\n",
    "        "
   ]
  },
  {
   "cell_type": "code",
   "execution_count": null,
   "metadata": {
    "collapsed": true
   },
   "outputs": [],
   "source": []
  }
 ],
 "metadata": {
  "kernelspec": {
   "display_name": "Python 3",
   "language": "python",
   "name": "python3"
  },
  "language_info": {
   "codemirror_mode": {
    "name": "ipython",
    "version": 3
   },
   "file_extension": ".py",
   "mimetype": "text/x-python",
   "name": "python",
   "nbconvert_exporter": "python",
   "pygments_lexer": "ipython3",
   "version": "3.6.1"
  }
 },
 "nbformat": 4,
 "nbformat_minor": 2
}
