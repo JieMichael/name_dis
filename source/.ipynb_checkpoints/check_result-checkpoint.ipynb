{
 "cells": [
  {
   "cell_type": "code",
   "execution_count": 1,
   "metadata": {
    "collapsed": true
   },
   "outputs": [],
   "source": [
    "import os\n",
    "import _pickle as cpickle"
   ]
  },
  {
   "cell_type": "code",
   "execution_count": 2,
   "metadata": {},
   "outputs": [
    {
     "name": "stdout",
     "output_type": "stream",
     "text": [
      "..\\data\\aimin liu\\result_cluster_aimin liu\n",
      "..\\data\\aiping wang\\result_cluster_aiping wang\n",
      "..\\data\\aman ullah\\result_cluster_aman ullah\n",
      "..\\data\\an wang\\result_cluster_an wang\n",
      "..\\data\\b yang\\result_cluster_b yang\n",
      "..\\data\\bei wu\\result_cluster_bei wu\n"
     ]
    }
   ],
   "source": [
    "dirct = '..\\data'\n",
    "for root,dirs,files in os.walk(dirct):\n",
    "    for file in files:\n",
    "        file = str(file)\n",
    "        if(file.find('result')!=-1):\n",
    "            print(os.path.join(root,file))\n",
    "            clusters = cpickle.load(open(os.path.join(root,file),'rb'))\n",
    "            break"
   ]
  },
  {
   "cell_type": "code",
   "execution_count": 3,
   "metadata": {},
   "outputs": [],
   "source": [
    "clusters = cpickle.load(open('../data/aimin liu/result_cluster_aimin liu','rb'))"
   ]
  },
  {
   "cell_type": "code",
   "execution_count": 8,
   "metadata": {},
   "outputs": [
    {
     "name": "stdout",
     "output_type": "stream",
     "text": [
      "<name_disambiguation.Cluster object at 0x00000197475FB5C0>\n",
      "<name_disambiguation.Cluster object at 0x000001974F8B2A90>\n",
      "<name_disambiguation.Cluster object at 0x000001974F8BAF60>\n",
      "<name_disambiguation.Cluster object at 0x000001974F8C09B0>\n",
      "<name_disambiguation.Cluster object at 0x000001974F8CC668>\n",
      "<name_disambiguation.Cluster object at 0x000001974F8CCC18>\n",
      "<name_disambiguation.Cluster object at 0x000001974F8D4710>\n",
      "<name_disambiguation.Cluster object at 0x000001974F8D4FD0>\n",
      "<name_disambiguation.Cluster object at 0x000001974F8A5358>\n",
      "<name_disambiguation.Cluster object at 0x000001974F8A5BE0>\n",
      "<name_disambiguation.Cluster object at 0x000001974F8A5748>\n",
      "<name_disambiguation.Cluster object at 0x000001974F895470>\n",
      "<name_disambiguation.Cluster object at 0x000001974F895BA8>\n",
      "<name_disambiguation.Cluster object at 0x000001974F895DA0>\n",
      "<name_disambiguation.Cluster object at 0x000001974F8A0320>\n",
      "<name_disambiguation.Cluster object at 0x000001974F8A01D0>\n",
      "<name_disambiguation.Cluster object at 0x000001974F8A0BA8>\n",
      "<name_disambiguation.Cluster object at 0x000001974F8A0DD8>\n",
      "<name_disambiguation.Cluster object at 0x000001974F8A0B38>\n",
      "<name_disambiguation.Cluster object at 0x00000197476260F0>\n",
      "<name_disambiguation.Cluster object at 0x0000019747626128>\n",
      "<name_disambiguation.Cluster object at 0x00000197476263C8>\n",
      "<name_disambiguation.Cluster object at 0x00000197476264E0>\n",
      "<name_disambiguation.Cluster object at 0x0000019747626438>\n",
      "<name_disambiguation.Cluster object at 0x0000019747626390>\n",
      "<name_disambiguation.Cluster object at 0x0000019747626630>\n",
      "<name_disambiguation.Cluster object at 0x0000019747626780>\n",
      "<name_disambiguation.Cluster object at 0x0000019747626710>\n",
      "<name_disambiguation.Cluster object at 0x00000197476267F0>\n",
      "<name_disambiguation.Cluster object at 0x00000197476265C0>\n",
      "<name_disambiguation.Cluster object at 0x0000019747626160>\n",
      "<name_disambiguation.Cluster object at 0x0000019747626198>\n",
      "<name_disambiguation.Cluster object at 0x00000197476261D0>\n",
      "<name_disambiguation.Cluster object at 0x00000197476268D0>\n",
      "<name_disambiguation.Cluster object at 0x0000019747626898>\n",
      "<name_disambiguation.Cluster object at 0x0000019747626A20>\n",
      "<name_disambiguation.Cluster object at 0x0000019747626940>\n",
      "<name_disambiguation.Cluster object at 0x000001974F89C7B8>\n",
      "<name_disambiguation.Cluster object at 0x000001974F89C630>\n",
      "<name_disambiguation.Cluster object at 0x000001974F89CA58>\n",
      "<name_disambiguation.Cluster object at 0x000001974F89CF98>\n",
      "<name_disambiguation.Cluster object at 0x000001974F89C2E8>\n",
      "<name_disambiguation.Cluster object at 0x000001974F89C1D0>\n",
      "<name_disambiguation.Cluster object at 0x00000197475FBF28>\n",
      "<name_disambiguation.Cluster object at 0x000001974F89C128>\n",
      "<name_disambiguation.Cluster object at 0x0000019747624518>\n",
      "<name_disambiguation.Cluster object at 0x000001974F887908>\n",
      "<name_disambiguation.Cluster object at 0x000001974F8879B0>\n",
      "<name_disambiguation.Cluster object at 0x000001974F8877B8>\n",
      "<name_disambiguation.Cluster object at 0x000001974F887668>\n"
     ]
    }
   ],
   "source": [
    "for cluster in clusters:\n",
    "    print (clusters[cluster])"
   ]
  },
  {
   "cell_type": "code",
   "execution_count": null,
   "metadata": {
    "collapsed": true
   },
   "outputs": [],
   "source": []
  }
 ],
 "metadata": {
  "kernelspec": {
   "display_name": "Python 3",
   "language": "python",
   "name": "python3"
  },
  "language_info": {
   "codemirror_mode": {
    "name": "ipython",
    "version": 3
   },
   "file_extension": ".py",
   "mimetype": "text/x-python",
   "name": "python",
   "nbconvert_exporter": "python",
   "pygments_lexer": "ipython3",
   "version": "3.6.1"
  }
 },
 "nbformat": 4,
 "nbformat_minor": 2
}
